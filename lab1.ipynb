{
 "cells": [
  {
   "cell_type": "markdown",
   "id": "2bf79cee-adfc-4906-9455-c92a6b12d43f",
   "metadata": {},
   "source": [
    "# Notebook for Lab 1 - Symmetric Encryption"
   ]
  },
  {
   "cell_type": "markdown",
   "id": "11410c69-5d78-4494-b3e7-e1d71124e849",
   "metadata": {},
   "source": [
    "## General goal\n",
    "In this lab you’ll get familiarized with programming (*using*) symmetric encryption algorithms using a modern library. The lab makes use of Python language but it could also be done with Java or C-like languages. \n",
    "\n",
    "## Specific goals\n",
    "- Make use of different data representation formats (byte/ascii, string, hexadecimal, b64). Students should be able to recognize each of the formats and translate from one format to another.\n",
    "- Make use of the pyca/cryptography library to encrypt and decrypt simple messages (strings) with block ciphers (AES, Camellia) operated under different modes (ECB, CBC and CTR) and considering padding issues.\n",
    "- Make use of a robust pseudo random number generator function/algorithm to generate keys, initialization vectors and nonces.\n",
    "- Understand how modifications in the ciphertext affect the decryption result when different operation modes are used.\n",
    "- Make use of the pyca/cryptography library to encrypt and decrypt simple messages with stream ciphers (ChaCha20)."
   ]
  },
  {
   "cell_type": "markdown",
   "id": "251612b4-0062-48eb-8001-4ff9834ca032",
   "metadata": {},
   "source": [
    "## Modules\n",
    "Cryptography library includes both high level recipes and low-level interfaces to common cryptographic algorithms such as symmetric ciphers, message digests, and key derivation functions. For more details you can consult the following link: https://pypi.org/project/cryptography. For the moment, we are going to directly use the primitives, forgetting about Fernet constructions. You’ll may find useful to have these links as reference:\n",
    "- Links to the documentation of the specific sections at stake in this lab:\n",
    "- Symmetric encryption: https://cryptography.io/en/latest/hazmat/primitives/symmetric-encryption/\n",
    "- Symmetric padding: https://cryptography.io/en/latest/hazmat/primitives/padding/\n",
    "- Link to info about os library: https://docs.python.org/3/library/os.html\n",
    "- Link to info about base64 library: https://docs.python.org/3/library/base64.html\n",
    "- Link to your very first encryption/decryption code snippet example: https://cryptography.io/en/latest/hazmat/primitives/symmetric-encryption/#cryptography.hazmat.primitives.ciphers.Cipher"
   ]
  },
  {
   "cell_type": "markdown",
   "id": "6edc10a8-9941-41c3-9082-c40299e7b934",
   "metadata": {},
   "source": [
    "## Lab assignment and assessment\n",
    "You are given one Python script/notebook, that contains the headers of all the functions you should develop at the end of this lab. Next, you’ll be guided through several tasks you’ll have to complete in order to do so.\n",
    "\n",
    "Lab 1 assessment will be performed with a test/quiz/exam at the end of the course (along the other lab assessments)."
   ]
  },
  {
   "cell_type": "markdown",
   "id": "4a61e4e4-d5d0-4f6c-b195-9af155a85efb",
   "metadata": {},
   "source": [
    "# 0. Modules installation and imports"
   ]
  },
  {
   "cell_type": "code",
   "execution_count": 4,
   "id": "b85a509f-3c33-4eb4-ad6a-0af5f1677ad9",
   "metadata": {},
   "outputs": [
    {
     "name": "stdout",
     "output_type": "stream",
     "text": [
      "Requirement already satisfied: cryptography in ./.venv/lib/python3.10/site-packages (41.0.4)\n",
      "Requirement already satisfied: cffi>=1.12 in ./.venv/lib/python3.10/site-packages (from cryptography) (1.16.0)\n",
      "Requirement already satisfied: pycparser in ./.venv/lib/python3.10/site-packages (from cffi>=1.12->cryptography) (2.21)\n"
     ]
    }
   ],
   "source": [
    "!pip install cryptography"
   ]
  },
  {
   "cell_type": "code",
   "execution_count": 5,
   "id": "cab7834a-1fe4-4426-9ae2-a40e1eacea29",
   "metadata": {},
   "outputs": [],
   "source": [
    "from cryptography.hazmat.primitives.ciphers import Cipher, algorithms, modes\n",
    "\n",
    "from cryptography.hazmat.primitives import padding\n",
    "\n",
    "import base64\n",
    "\n",
    "import os \n",
    "\n",
    "import secrets"
   ]
  },
  {
   "cell_type": "markdown",
   "id": "38f046a6-0a05-4e2d-bbbc-e9e990b44597",
   "metadata": {},
   "source": [
    "# 1. Symmetric Block Ciphers\n",
    "\n",
    "Next, you’ll learn how to encrypt a simple text with symmetric block ciphers. First, you’ll use AES cipher operated under several confidentiality operation modes, and then you’ll be prompted to use other symmetric ciphers (CAMELLIA).\n",
    "Read AND USE AS REFERENCE the information provided in the documentation web page of the pyca/cryptography library for symmetric encryption: https://cryptography.io/en/latest/hazmat/primitives/symmetric-encryption/ "
   ]
  },
  {
   "cell_type": "markdown",
   "id": "72539095-246b-46fb-96b6-6d611586644f",
   "metadata": {},
   "source": [
    "## 1.1 BYTE-LIKE DATA"
   ]
  },
  {
   "cell_type": "markdown",
   "id": "67da3969-f740-4e70-a1b1-d1542b4ffef6",
   "metadata": {
    "tags": []
   },
   "source": [
    "### Task 1.1.1 From byte-like to hex and b64"
   ]
  },
  {
   "cell_type": "markdown",
   "id": "cc16417f-f856-4157-ab92-5e4414951c91",
   "metadata": {},
   "source": [
    "First, let’s see a primer in dealing with binary data in Python, as it is a very frequent data format when using cryptography. The code lines for defining the key, the initialization vector and the text that you’ll use in your first encryption are given next:"
   ]
  },
  {
   "cell_type": "code",
   "execution_count": 2,
   "id": "782a6805-da1d-4a8f-af28-fa990adf4d23",
   "metadata": {},
   "outputs": [],
   "source": [
    "key = b'MN\\\\\\xde\\xa1\\xf7\\x9c\\xcf\\x10A\\xa8\\x1e\\x00\\x0eeq\\xe86\\x1c\\x12\\x18\\xa6\\x10\\xfb\\xb9^\\n,0\\xa2kj'\n",
    "iv = b'\\x7f\\xb3W\\x84\\x1a9KN~\\xafs\\xfc\\x9f\\xb6\\xcc\\xb8'\n",
    "message = b'a secret message'"
   ]
  },
  {
   "cell_type": "markdown",
   "id": "ba71328d-7a1f-4499-bc25-102e9a6eaaa5",
   "metadata": {},
   "source": [
    "Notice the preceding “b” in the previous data in single quotes. It is used to transform the provided (“text”-like) data into binary format (following ASCII codification https://en.wikipedia.org/wiki/ASCII). That is, the code will treat these data as binary. Each byte can be specified by:\n",
    "- the ASCII character corresponding to that byte if it is printable, \n",
    "- the hexadecimal representation of the byte, preceding the 2-hex digits by “\\x”.\n",
    "\n",
    "Some examples: \n",
    "- b’MN’ corresponds to binary data 4d4e <sub>(16</sub> = 0100 1101 0100 1110 <sub>(2</sub> \n",
    "- b’\\xa1\\xf7’ corresponds to binary data a1f7 <sub>(16</sub> = 1010 0001 1111 0111 <sub>(2</sub>\n",
    "\n",
    "You can get the hexadecimal representation of binary data using the built-in Python function <code>hex()</code> as follows (note: <code>hex()</code> belongs to the set of Python built-in functions (https://docs.python.org/3/library/functions.html):"
   ]
  },
  {
   "cell_type": "code",
   "execution_count": 5,
   "id": "d0e3c4cc-2538-4287-93d2-a729cb5e3de3",
   "metadata": {},
   "outputs": [
    {
     "name": "stdout",
     "output_type": "stream",
     "text": [
      "hex_binarydata = 4d4e5cdea1\n"
     ]
    }
   ],
   "source": [
    "binarydata = b'MN\\\\\\xde\\xa1' \n",
    "hex_binarydata = binarydata.hex() \n",
    "print(\"hex_binarydata =\", hex_binarydata)"
   ]
  },
  {
   "cell_type": "markdown",
   "id": "29cc8ece-75e8-4bbf-80fa-a8ac8ac6b639",
   "metadata": {},
   "source": [
    "You can get back your bytes from their hex representation as follows using <code>bytes.fromhex()</code> (https://docs.python.org/3/library/stdtypes.html?highlight=fromhex#bytes.fromhex):"
   ]
  },
  {
   "cell_type": "code",
   "execution_count": 6,
   "id": "0cb47636-ee4c-4368-8139-ce66d720faa3",
   "metadata": {},
   "outputs": [
    {
     "name": "stdout",
     "output_type": "stream",
     "text": [
      "retrieved_binarydata = b'MN\\\\\\xde\\xa1'\n"
     ]
    }
   ],
   "source": [
    "retrieved_binarydata = bytes.fromhex(hex_binarydata) \n",
    "print(\"retrieved_binarydata =\", retrieved_binarydata)"
   ]
  },
  {
   "cell_type": "markdown",
   "id": "40ee93e9-3b05-45fc-964a-aab4f3275c07",
   "metadata": {},
   "source": [
    "Other codification that can be used to deal in a print-friendly manner with binary data is B64 (https://en.wikipedia.org/wiki/Base64). \n",
    "\n",
    "An option is to use the Python module base64 (https://docs.python.org/3/library/base64.html). In order to use it you have to import the module in your code (you should have done it in section 0) and use <code>base64.b64encode()</code> as follows:"
   ]
  },
  {
   "cell_type": "code",
   "execution_count": 7,
   "id": "2c7e8932-2f6c-478c-8fa9-8afdecafe8f5",
   "metadata": {},
   "outputs": [
    {
     "name": "stdout",
     "output_type": "stream",
     "text": [
      "b64_binarydata = b'TU5c3qE='\n"
     ]
    }
   ],
   "source": [
    "# import base64 \n",
    "\n",
    "b64_binarydata = base64.b64encode(binarydata)\n",
    "print(\"b64_binarydata =\",b64_binarydata)"
   ]
  },
  {
   "cell_type": "markdown",
   "id": "fad3bc95-c673-410f-a775-9532b937989e",
   "metadata": {},
   "source": [
    "As before, you can get your bytes back from B64 as follows using <code>base64.b64decode()</code>:"
   ]
  },
  {
   "cell_type": "code",
   "execution_count": 8,
   "id": "f2669b60-2a20-472b-9dd0-9e9f51ba9862",
   "metadata": {},
   "outputs": [
    {
     "name": "stdout",
     "output_type": "stream",
     "text": [
      "retrieved_binarydata = b'MN\\\\\\xde\\xa1'\n"
     ]
    }
   ],
   "source": [
    "retrieved_binarydata = base64.b64decode(b64_binarydata)\n",
    "print(\"retrieved_binarydata =\", retrieved_binarydata)"
   ]
  },
  {
   "cell_type": "markdown",
   "id": "b6771b2d-067d-47b5-a5df-0857f89ba3ba",
   "metadata": {},
   "source": [
    "#### TASK\n",
    "<mark>Represent the given key, IV and message text in hexadecimal and B64 and check that you understand how binary data is provided and represented. Undo the hex and B64 representations by retrieving back the bytes and print the results.</mark>"
   ]
  },
  {
   "cell_type": "code",
   "execution_count": 3,
   "id": "31027415-69a0-401b-b64d-7783ea5018cd",
   "metadata": {},
   "outputs": [
    {
     "name": "stdout",
     "output_type": "stream",
     "text": [
      "Hexadecimal represenation of the key is 4d4e5cdea1f79ccf1041a81e000e6571e8361c1218a610fbb95e0a2c30a26b6a\n",
      "Base64 representation of the key is b'TU5c3qH3nM8QQageAA5lceg2HBIYphD7uV4KLDCia2o='\n",
      "Hexadecimal represenation of IV is 7fb357841a394b4e7eaf73fc9fb6ccb8\n",
      "Base64 representation of IV is b'f7NXhBo5S05+r3P8n7bMuA=='\n",
      "Original key byte representation from hex representation is b'MN\\\\\\xde\\xa1\\xf7\\x9c\\xcf\\x10A\\xa8\\x1e\\x00\\x0eeq\\xe86\\x1c\\x12\\x18\\xa6\\x10\\xfb\\xb9^\\n,0\\xa2kj'\n",
      "Original key byte representation from b64 representation is b'MN\\\\\\xde\\xa1\\xf7\\x9c\\xcf\\x10A\\xa8\\x1e\\x00\\x0eeq\\xe86\\x1c\\x12\\x18\\xa6\\x10\\xfb\\xb9^\\n,0\\xa2kj'\n",
      "Original IV byte representation from hex representation is b'\\x7f\\xb3W\\x84\\x1a9KN~\\xafs\\xfc\\x9f\\xb6\\xcc\\xb8'\n",
      "Original IV byte representation from b64 representation is b'\\x7f\\xb3W\\x84\\x1a9KN~\\xafs\\xfc\\x9f\\xb6\\xcc\\xb8'\n"
     ]
    }
   ],
   "source": [
    "# Importing necessary libraries\n",
    "import base64\n",
    "\n",
    "# Key hex & b64\n",
    "key_hex = key.hex()\n",
    "key_b64 = base64.b64encode(key)\n",
    "print(f\"Hexadecimal represenation of the key is {key_hex}\")\n",
    "print(f\"Base64 representation of the key is {key_b64}\")\n",
    "\n",
    "# IV hex & 64\n",
    "iv_hex = iv.hex()\n",
    "iv_b64 = base64.b64encode(iv)\n",
    "print(f\"Hexadecimal represenation of IV is {iv_hex}\")\n",
    "print(f\"Base64 representation of IV is {iv_b64}\")\n",
    "\n",
    "# Key original\n",
    "decrypted_key_hex = bytes.fromhex(key_hex)\n",
    "decrypted_key_b64 = base64.b64decode(key_b64)\n",
    "print(f\"Original key byte representation from hex representation is {decrypted_key_hex}\")\n",
    "print(f\"Original key byte representation from b64 representation is {decrypted_key_b64}\")\n",
    "\n",
    "# IV original\n",
    "decrypted_iv_hex = bytes.fromhex(iv_hex)\n",
    "decrypted_iv_b64 = base64.b64decode(iv_b64)\n",
    "print(f\"Original IV byte representation from hex representation is {decrypted_iv_hex}\")\n",
    "print(f\"Original IV byte representation from b64 representation is {decrypted_iv_b64}\")"
   ]
  },
  {
   "cell_type": "markdown",
   "id": "fd59a844-9c57-4ba4-969b-42daededd4d7",
   "metadata": {},
   "source": [
    "## 1.2 AES256 - CBC MODE"
   ]
  },
  {
   "cell_type": "markdown",
   "id": "55f516c7-162f-486a-a389-bbee2c8f022a",
   "metadata": {
    "tags": []
   },
   "source": [
    "### Task 1.2.1 Encrypt/decrypt with AES 256 CBC"
   ]
  },
  {
   "cell_type": "markdown",
   "id": "c608e7d7-afef-497e-a300-db7cf7d9a099",
   "metadata": {},
   "source": [
    "Now, let’s encrypt a simple text (message) using the AES cipher with a 256-bit key and operating the cipher under CBC mode.\n",
    "\n",
    "Read the information and take the code provided as example in the following web page section:\n",
    "\n",
    "https://cryptography.io/en/latest/hazmat/primitives/symmetric-encryption/#cryptography.hazmat.primitives.ciphers.Cipher \n",
    "\n",
    "Notice that Cipher is a general construction that can be instantiated with a specific algorithm, mode and backend (note: We will rely on the default backend but if you want to know more about backends, read this web page: https://cryptography.io/en/latest/hazmat/backends/). \n",
    "\n",
    "In this case we’ll use the classes <code>algorithms.AES(..)</code> and <code>modes.CBC(..)</code> for the first two parameters.\n",
    "\n",
    "Notice also that in the example in the web page\n",
    "https://cryptography.io/en/latest/hazmat/primitives/symmetric-encryption/#cryptography.hazmat.primitives.ciphers.Cipher\n",
    "the key and iv data are randomly obtained."
   ]
  },
  {
   "cell_type": "markdown",
   "id": "be2b807b-702b-4a18-9830-a3288b1a2e6b",
   "metadata": {},
   "source": [
    "#### TASK"
   ]
  },
  {
   "cell_type": "markdown",
   "id": "e540fffb-c801-469c-b449-2e2445b1fc4d",
   "metadata": {},
   "source": [
    "<mark>Copy and change the code of the example (given at the web page of the library) so you use the key, iv and message given in Section 1.1. Leave the rest of the code unchanged. Additionally, insert calls to the <code>print()</code> function so the message, key, iv and the results of the encryption and decryption processes are printed. </mark>"
   ]
  },
  {
   "cell_type": "code",
   "execution_count": 9,
   "id": "a3a226d6",
   "metadata": {},
   "outputs": [
    {
     "name": "stdout",
     "output_type": "stream",
     "text": [
      "message = b'a secret message'\n",
      "key = b'MN\\\\\\xde\\xa1\\xf7\\x9c\\xcf\\x10A\\xa8\\x1e\\x00\\x0eeq\\xe86\\x1c\\x12\\x18\\xa6\\x10\\xfb\\xb9^\\n,0\\xa2kj'\n",
      "ciphertext = b';\\xa6\\xe5\\x85;^\\xc2&\\xec\\x07|\\x03\\xcc\\r\\xaeN'\n",
      "hex_ciphertext =  3ba6e5853b5ec226ec077c03cc0dae4e\n",
      "b64_ciphertext =  b'O6blhTtewibsB3wDzA2uTg=='\n",
      "plaintext = b'a secret message'\n",
      "hex_plaintext =  6120736563726574206d657373616765\n",
      "b64_plaintext =  b'YSBzZWNyZXQgbWVzc2FnZQ=='\n"
     ]
    }
   ],
   "source": [
    "import os\n",
    "from cryptography.hazmat.primitives.ciphers import Cipher, algorithms, modes\n",
    "import base64\n",
    "\n",
    "cipher = Cipher(algorithms.AES(key), modes.CBC(iv))\n",
    "\n",
    "print(f\"message = {message}\")\n",
    "print(f\"key = {key}\")\n",
    "\n",
    "## encryption code\n",
    "encryptor = cipher.encryptor()\n",
    "ct = encryptor.update(message) + encryptor.finalize()\n",
    "print(\"ciphertext =\", ct)\n",
    "print(\"hex_ciphertext = \", ct.hex())\n",
    "print(\"b64_ciphertext = \", base64.b64encode(ct))\n",
    "\n",
    "## decryption code\n",
    "decryptor = cipher.decryptor()\n",
    "pt = decryptor.update(ct) + decryptor.finalize()\n",
    "print(\"plaintext =\", pt)\n",
    "print(\"hex_plaintext = \", pt.hex())\n",
    "print(\"b64_plaintext = \", base64.b64encode(pt))"
   ]
  },
  {
   "cell_type": "markdown",
   "id": "93aea727-e639-46b3-b7f9-d4db0d98a0fa",
   "metadata": {},
   "source": [
    "#### CHECK\n",
    "Check your results with the following values:\n",
    "<code>\n",
    "message = b'a secret message'\n",
    "key = b'MN\\\\\\xde\\xa1\\xf7\\x9c\\xcf\\x10A\\xa8\\x1e\\x00\\x0eeq\\xe86\\x1c\\x12\\x18\\xa6\\x10\\xfb\\xb9^\\n,0\\xa2kj'\n",
    "ciphertext = b';\\xa6\\xe5\\x85;^\\xc2&\\xec\\x07|\\x03\\xcc\\r\\xaeN'\n",
    "hex_ciphertext = 3ba6e5853b5ec226ec077c03cc0dae4e\n",
    "b64_ciphertext = b'O6blhTtewibsB3wDzA2uTg=='\n",
    "plaintext = b'a secret message'\n",
    "hex_plaintext = 6120736563726574206d657373616765\n",
    "b64_plaintext = b'YSBzZWNyZXQgbWVzc2FnZQ=='\n",
    "</code>"
   ]
  },
  {
   "cell_type": "markdown",
   "id": "9e27861f-0725-4df5-907b-9d13728e5a2d",
   "metadata": {},
   "source": [
    "#### QUESTION\n",
    "\n",
    "<mark>Which length in bytes has the input data to encrypt in Task 1.2.2? </mark>\n",
    "\n",
    "<mark>And the output ciphertext? </mark>\n",
    "\n",
    "Notice that you may use the built-in function <code>len(..)</code> to get the length of an object (https://docs.python.org/3/library/functions.html#len)."
   ]
  },
  {
   "cell_type": "code",
   "execution_count": 8,
   "id": "94b14404-a607-4363-9927-95e8ace00548",
   "metadata": {},
   "outputs": [
    {
     "name": "stdout",
     "output_type": "stream",
     "text": [
      "Length of the input data: 16\n",
      "Length of the ciphertext: 16\n"
     ]
    }
   ],
   "source": [
    "# YOUR CODE HERE\n",
    "print(f\"Length of the input data: {len(message)}\")\n",
    "\n",
    "print(f\"Length of the ciphertext: {len(ct)}\")"
   ]
  },
  {
   "cell_type": "markdown",
   "id": "8d798cc9-a475-476d-8974-cdb818e528c4",
   "metadata": {},
   "source": [
    "YOUR ANSWER HERE\n",
    "\n",
    "The input text has a length of 16 bytes, along with the ciphertext."
   ]
  },
  {
   "cell_type": "markdown",
   "id": "5f4ab2af-7382-4c5c-ad25-bd67e0a5a8db",
   "metadata": {
    "tags": []
   },
   "source": [
    "### Task 1.2.2 Adding padding to AES 256 CBC"
   ]
  },
  {
   "cell_type": "markdown",
   "id": "90e79028-8877-4503-a6a8-f5522004e18b",
   "metadata": {},
   "source": [
    "Now let’s play with the length of the message to encrypt! In the previous exercise you encrypted a message that has an exact length of 16 characters, that is, the AES block size. Try to encrypt a longer message whose length in characters is not multiple of 16. You’ll get an error for sure! It is because if you need to encrypt a message with length not multiple of the cipher block size and you are using CBC operation mode, you need to add padding to your input so its length satisfies that condition.\n",
    "\n",
    "Read the information provided in the documentation web page of the pyca/cryptography library on how the library deals with symmetric padding:\n",
    "https://cryptography.io/en/latest/hazmat/primitives/padding/\n",
    "\n",
    "Study the code in the example provided to illustrate the PKCS7 padding here:\n",
    "https://cryptography.io/en/latest/hazmat/primitives/padding/#cryptography.hazmat.primitives.padding.PKCS7\n",
    "\n",
    "Notice that you have to import the padding module from the pyca/cryptography library (if you have not done it in Section 0). Notice also that the correct order to combine padding-encryption and decryption-unpadding is the following one:\n",
    "1. Pad the data to encrypt to obtain the padded data\n",
    "2. Encrypt the padded data to obtain the encrypted text\n",
    "3. --- (simulation of data exchange) ----\n",
    "4. Decrypt the encrypted text to obtain the padded plaintext\n",
    "5. Unpad the padded plaintext to obtain the original plaintext\n",
    "\n",
    "#### TASK \n",
    "<mark>After studying it, incorporate PKCS7 padding in your previous code. </mark>"
   ]
  },
  {
   "cell_type": "code",
   "execution_count": 10,
   "id": "1a2ae124-d7ee-4b46-8b3e-f42705c13d05",
   "metadata": {},
   "outputs": [
    {
     "name": "stdout",
     "output_type": "stream",
     "text": [
      "message = b'a secret message'\n",
      "padded_message = b'a secret message\\x10\\x10\\x10\\x10\\x10\\x10\\x10\\x10\\x10\\x10\\x10\\x10\\x10\\x10\\x10\\x10'   length = 32\n",
      "ciphertext = b';\\xa6\\xe5\\x85;^\\xc2&\\xec\\x07|\\x03\\xcc\\r\\xaeNq\\xb6\\xb8\\xb5\\x06\\xeeJ\\xd9\\xfb\\x004\\xb5\\xac\\x9e}\\xf0'\n",
      "hex_ciphertext =  3ba6e5853b5ec226ec077c03cc0dae4e71b6b8b506ee4ad9fb0034b5ac9e7df0\n",
      "b64_ciphertext =  b'O6blhTtewibsB3wDzA2uTnG2uLUG7krZ+wA0tayeffA='\n",
      "padded_plaintext = b'a secret message\\x10\\x10\\x10\\x10\\x10\\x10\\x10\\x10\\x10\\x10\\x10\\x10\\x10\\x10\\x10\\x10'\n",
      "hex_padded_plaintext =  6120736563726574206d65737361676510101010101010101010101010101010\n",
      "plaintext =  b'a secret message'\n",
      "hex_plaintext =  6120736563726574206d657373616765\n"
     ]
    }
   ],
   "source": [
    "import os\n",
    "from cryptography.hazmat.primitives import padding\n",
    "from cryptography.hazmat.primitives.ciphers import Cipher, algorithms, modes\n",
    "import base64\n",
    "\n",
    "cipher = Cipher(algorithms.AES(key), modes.CBC(iv))\n",
    "padder = padding.PKCS7(128).padder()\n",
    "\n",
    "print(f\"message = {message}\")\n",
    "\n",
    "padded_message = padder.update(message) + padder.finalize()\n",
    "\n",
    "print(f\"padded_message = {padded_message}   length = {len(padded_message)}\")\n",
    "\n",
    "## encryption code\n",
    "encryptor = cipher.encryptor()\n",
    "ct = encryptor.update(padded_message) + encryptor.finalize()\n",
    "print(\"ciphertext =\", ct)\n",
    "print(\"hex_ciphertext = \", ct.hex())\n",
    "print(\"b64_ciphertext = \", base64.b64encode(ct))\n",
    "\n",
    "## decryption code\n",
    "decryptor = cipher.decryptor()\n",
    "pt = decryptor.update(ct) + decryptor.finalize()\n",
    "print(\"padded_plaintext =\", pt)\n",
    "print(\"hex_padded_plaintext = \", pt.hex())\n",
    "\n",
    "unpadder = padding.PKCS7(128).unpadder()\n",
    "unpadded_pt = unpadder.update(pt) + unpadder.finalize()\n",
    "print(\"plaintext = \", unpadded_pt)\n",
    "print(\"hex_plaintext = \", unpadded_pt.hex())"
   ]
  },
  {
   "cell_type": "markdown",
   "id": "c2f66779-a265-4f34-89d8-d87097e375fd",
   "metadata": {},
   "source": [
    "#### CHECK\n",
    "Your previous AES256-CBC code, updated to include PKCS7 padding, with the data provided in Section 1.1 (key, iv and message), should provide the result shown next:\n",
    "<code>\n",
    "message = b'a secret message'\n",
    "padded_message = b'a secret message\\x10\\x10\\x10\\x10\\x10\\x10\\x10\\x10\\x10\\x10\\x10\\x10\\x10\\x10\\x10\\x10' length =  32\n",
    "ciphertext = b';\\xa6\\xe5\\x85;^\\xc2&\\xec\\x07|\\x03\\xcc\\r\\xaeNq\\xb6\\xb8\\xb5\\x06\\xeeJ\\xd9\\xfb\\x004\\xb5\\xac\\x9e}\\xf0'\n",
    "hex_ciphertext = 3ba6e5853b5ec226ec077c03cc0dae4e71b6b8b506ee4ad9fb0034b5ac9e7df0\n",
    "padded_plaintext = b'a secret message\\x10\\x10\\x10\\x10\\x10\\x10\\x10\\x10\\x10\\x10\\x10\\x10\\x10\\x10\\x10\\x10'\n",
    "hex_padded_plaintext = 6120736563726574206d65737361676510101010101010101010101010101010\n",
    "plaintext = b'a secret message'\n",
    "hex_plaintext = 6120736563726574206d657373616765\n",
    "</code>"
   ]
  },
  {
   "cell_type": "markdown",
   "id": "a61c6832-88a8-4e53-8d30-685fa35d793a",
   "metadata": {},
   "source": [
    "#### QUESTION\n",
    "\n",
    "<mark>Which length in bytes has the input data to encrypt in Task 1.2.2? </mark>\n",
    "\n",
    "<mark>Which length in bytes has the output ciphertext in Task 1.2.2? </mark>\n",
    "\n",
    "<mark>How many bytes have been added as PKCS7 padding? </mark>\n",
    "\n",
    "<mark>Which value has been used in the bytes added as padding? </mark>"
   ]
  },
  {
   "cell_type": "code",
   "execution_count": 13,
   "id": "7ae11153-3351-4c68-9aa3-f57352138efc",
   "metadata": {},
   "outputs": [
    {
     "name": "stdout",
     "output_type": "stream",
     "text": [
      "Length of input data: 32\n",
      "Length of output ciphertext: 32\n",
      "Number of bytes added as PKC57 padding: 16\n"
     ]
    }
   ],
   "source": [
    "# YOUR CODE HERE\n",
    "print(f\"Length of input data: {len(padded_message)}\")\n",
    "print(f\"Length of output ciphertext: {len(ct)}\")\n",
    "print(f\"Number of bytes added as PKC57 padding: {len(padded_message) - len(message)}\")"
   ]
  },
  {
   "cell_type": "markdown",
   "id": "36f389e0-5dfe-43ef-a4b2-4087a3c66054",
   "metadata": {},
   "source": [
    "The length of the input data in bytes is 32\n",
    "The length of the output ciphertext in bytes is 32\n",
    "The number of bytes that were added in padding was 16\n",
    "The value used as padding is '\\x10'"
   ]
  },
  {
   "cell_type": "markdown",
   "id": "1c877bd3-864c-4909-b080-e4bbd2ca001b",
   "metadata": {
    "tags": []
   },
   "source": [
    "### Task 1.2.3 Checking AES 256 CBC PKCS7"
   ]
  },
  {
   "cell_type": "markdown",
   "id": "31541dea-27fb-4d3c-bc63-3df4fc29393c",
   "metadata": {},
   "source": [
    "#### TASK"
   ]
  },
  {
   "cell_type": "markdown",
   "id": "cd1d4933-84ac-4569-82ac-d2d324455078",
   "metadata": {},
   "source": [
    "<mark>Check that your code works correctly by encrypting <code>other_message</code>, a message with 25 characters (length not multiple of 16) and provided next, and the same <code>key</code> and <code>iv</code> already used. </mark>"
   ]
  },
  {
   "cell_type": "code",
   "execution_count": 15,
   "id": "fff53453-54d7-4c49-beb8-b4c848e55c52",
   "metadata": {},
   "outputs": [
    {
     "name": "stdout",
     "output_type": "stream",
     "text": [
      "message = b'This message is important'\n",
      "padded_message = b'This message is important\\x07\\x07\\x07\\x07\\x07\\x07\\x07'   length = 32\n",
      "ciphertext = b'\\x89\\x00g\\x1aP4\\xf7W\\x16\\xc1\\xffi\\xbb\\xc8\\x9f\\xcf\\xd3\\x84D\\x1d\\nL\\xcbvb\\xf1^sn\\xfa\\x06Z'\n",
      "hex_ciphertext =  8900671a5034f75716c1ff69bbc89fcfd384441d0a4ccb7662f15e736efa065a\n",
      "b64_ciphertext =  b'iQBnGlA091cWwf9pu8ifz9OERB0KTMt2YvFec276Blo='\n",
      "padded_plaintext = b'This message is important\\x07\\x07\\x07\\x07\\x07\\x07\\x07'\n",
      "hex_padded_plaintext =  54686973206d65737361676520697320696d706f7274616e7407070707070707\n",
      "plaintext =  b'This message is important'\n",
      "hex_plaintext =  54686973206d65737361676520697320696d706f7274616e74\n"
     ]
    }
   ],
   "source": [
    "import os\n",
    "from cryptography.hazmat.primitives import padding\n",
    "from cryptography.hazmat.primitives.ciphers import Cipher, algorithms, modes\n",
    "import base64\n",
    "\n",
    "cipher = Cipher(algorithms.AES(key), modes.CBC(iv))\n",
    "padder = padding.PKCS7(128).padder()\n",
    "\n",
    "other_message = b'This message is important'\n",
    "print(f\"message = {other_message}\")\n",
    "\n",
    "padded_message = padder.update(other_message) + padder.finalize()\n",
    "\n",
    "print(f\"padded_message = {padded_message}   length = {len(padded_message)}\")\n",
    "\n",
    "## encryption code\n",
    "encryptor = cipher.encryptor()\n",
    "ct = encryptor.update(padded_message) + encryptor.finalize()\n",
    "print(\"ciphertext =\", ct)\n",
    "print(\"hex_ciphertext = \", ct.hex())\n",
    "print(\"b64_ciphertext = \", base64.b64encode(ct))\n",
    "\n",
    "## decryption code\n",
    "decryptor = cipher.decryptor()\n",
    "pt = decryptor.update(ct) + decryptor.finalize()\n",
    "print(\"padded_plaintext =\", pt)\n",
    "print(\"hex_padded_plaintext = \", pt.hex())\n",
    "\n",
    "unpadder = padding.PKCS7(128).unpadder()\n",
    "unpadded_pt = unpadder.update(pt) + unpadder.finalize()\n",
    "print(\"plaintext = \", unpadded_pt)\n",
    "print(\"hex_plaintext = \", unpadded_pt.hex())"
   ]
  },
  {
   "cell_type": "markdown",
   "id": "51843fba-b668-49ec-b384-edd142892108",
   "metadata": {},
   "source": [
    "#### CHECK\n",
    "You should get the following results:\n",
    "<code>\n",
    "other_message = b'This message is important'\n",
    "padded_other_message = b'This message is important\\x07\\x07\\x07\\x07\\x07\\x07\\x07'\n",
    "length =  32\n",
    "ciphertext = b';\\xa6\\xe5\\x85;^\\xc2&\\xec\\x07|\\x03\\xcc\\r\\xaeNq\\xb6\\xb8\\xb5\\x06\\xeeJ\\xd9\\xfb\\x004\\xb5\\xac\\x9e}\\xf0'\n",
    "hex_ciphertext = 3ba6e5853b5ec226ec077c03cc0dae4e71b6b8b506ee4ad9fb0034b5ac9e7df0\n",
    "padded_plaintext = b'a secret message\\x10\\x10\\x10\\x10\\x10\\x10\\x10\\x10\\x10\\x10\\x10\\x10\\x10\\x10\\x10\\x10'\n",
    "hex_padded_plaintext = 6120736563726574206d65737361676510101010101010101010101010101010\n",
    "plaintext = b'a secret message'\n",
    "hex_plaintext = 6120736563726574206d657373616765\n",
    "</code>"
   ]
  },
  {
   "cell_type": "markdown",
   "id": "5e136e5f-07ee-4d43-95cc-977ba41de0db",
   "metadata": {},
   "source": [
    "#### QUESTION"
   ]
  },
  {
   "cell_type": "markdown",
   "id": "bac36ce9-3c4e-4bd1-b3d2-1bbaf8be36f0",
   "metadata": {},
   "source": [
    "<mark>Which length in bytes has the input data to encrypt in Task 1.2.3?</mark>\n",
    "\n",
    "<mark>Which length in bytes has the output ciphertext in Task 1.2.3?</mark>\n",
    "\n",
    "<mark>How many bytes have been added as PKCS7 padding?</mark> \n",
    "\n",
    "<mark>Which value has been used in the bytes added as padding?</mark>"
   ]
  },
  {
   "cell_type": "code",
   "execution_count": 17,
   "id": "6d524ada-9296-4f62-8e91-42f52ca14f6a",
   "metadata": {},
   "outputs": [
    {
     "name": "stdout",
     "output_type": "stream",
     "text": [
      "Length of input data: 32\n",
      "Length of output ciphertext: 32\n",
      "Number of bytes added as PKC57 padding: 7\n"
     ]
    }
   ],
   "source": [
    "# YOUR CODE HERE\n",
    "print(f\"Length of input data: {len(padded_message)}\")\n",
    "print(f\"Length of output ciphertext: {len(ct)}\")\n",
    "print(f\"Number of bytes added as PKC57 padding: {len(padded_message) - len(other_message)}\")"
   ]
  },
  {
   "cell_type": "markdown",
   "id": "8f1445bc-bb24-443c-9f43-9d45429eb50d",
   "metadata": {},
   "source": [
    "The length of the input data is 32 bytes\n",
    "The length of the output ciphertext is 32 bytes\n",
    "The number of bytes added as part of padding is 16 bytes\n",
    "The value used for padding was \\x07"
   ]
  },
  {
   "cell_type": "markdown",
   "id": "94750388-89d7-4af5-b4d3-74ce2cb092b3",
   "metadata": {
    "tags": []
   },
   "source": [
    "### Task 1.2.4 Wrapping AES 256 CBC PKCS7 encryption/decryption in functions"
   ]
  },
  {
   "cell_type": "markdown",
   "id": "e95d8146-f16d-46ab-9680-37fc22cd58ff",
   "metadata": {},
   "source": [
    "#### TASK\n",
    "\n",
    "<mark>Let’s wrap your AES256-CBC-PKCS7 code in two functions, one for encryption and another one for decryption. Next you have the headers that you should use for these two functions.</mark>"
   ]
  },
  {
   "cell_type": "code",
   "execution_count": 28,
   "id": "5956bf40-d675-4133-aa55-4075c6984894",
   "metadata": {},
   "outputs": [],
   "source": [
    "def aes256_cbc_pkcs7_encrypt(data_to_encrypt, key, iv):\n",
    "    cipher = Cipher(algorithms.AES(key), modes.CBC(iv))\n",
    "    padder = padding.PKCS7(128).padder()\n",
    "\n",
    "    padded_message = padder.update(data_to_encrypt) + padder.finalize()\n",
    "\n",
    "    encryptor = cipher.encryptor()\n",
    "    ct = encryptor.update(padded_message) + encryptor.finalize()\n",
    "    \n",
    "    return ct\n",
    "\n",
    "def aes256_cbc_pkcs7_decrypt(encrypted_data, key, iv):\n",
    "    cipher = Cipher(algorithms.AES(key), modes.CBC(iv))\n",
    "    unpadder = padding.PKCS7(128).unpadder()\n",
    "    decryptor = cipher.decryptor()\n",
    "    padded_pt = decryptor.update(encrypted_data) + decryptor.finalize()\n",
    "    unpadded_pt = unpadder.update(padded_pt) + unpadder.finalize()\n",
    "    \n",
    "    return unpadded_pt"
   ]
  },
  {
   "cell_type": "markdown",
   "id": "310159cf-d80b-4dc8-b71a-0b592dde0851",
   "metadata": {},
   "source": [
    "#### CHECK"
   ]
  },
  {
   "cell_type": "markdown",
   "id": "52ab9bc9-63f2-4096-9b6a-82f8772ee00d",
   "metadata": {},
   "source": [
    "Test your functions with the data and results of Task 1.2.3"
   ]
  },
  {
   "cell_type": "markdown",
   "id": "87b21eed-6371-44ad-b4e9-81337f9669f7",
   "metadata": {
    "tags": []
   },
   "source": [
    "### Task 1.2.5 Checking AES 256 CBC PKCS7 against CyberChef"
   ]
  },
  {
   "cell_type": "markdown",
   "id": "eb19f89f-050a-4614-b2ae-9f553831a29f",
   "metadata": {},
   "source": [
    "#### TASK"
   ]
  },
  {
   "cell_type": "markdown",
   "id": "c87bf5df-a12d-4648-a088-0891d9a59e77",
   "metadata": {},
   "source": [
    "<mark> Test again your AES256-CBC-PKCS7 function but this time check your results using the web page tool CyberChef: https://gchq.github.io/CyberChef/ . You have to select, in the left sidebar, 'AES Encrypt' from 'Encryption / Encoding' and CBC mode.  </mark>"
   ]
  },
  {
   "cell_type": "markdown",
   "id": "863da11e-419b-4b31-a11e-160cbbfa2bd9",
   "metadata": {},
   "source": [
    "## 1.3 AES256 - ECB MODE"
   ]
  },
  {
   "cell_type": "markdown",
   "id": "31fb1f68-974d-4693-a28d-3e00edc2136a",
   "metadata": {},
   "source": [
    "Let’s now use the ECB operation mode. It is the simplest of all the confidentiality operation modes and does not need any parameter. You can consult the library documentation for this mode here: https://cryptography.io/en/latest/hazmat/primitives/symmetric-encryption/#cryptography.hazmat.primitives.ciphers.modes.ECB"
   ]
  },
  {
   "cell_type": "markdown",
   "id": "9b53e9c1-9a6f-4e28-9872-d157df324d66",
   "metadata": {
    "tags": []
   },
   "source": [
    "### Task 1.3.1 Encrypt/decrypt with AES 256 ECB PKCS7"
   ]
  },
  {
   "cell_type": "markdown",
   "id": "a4668323-0608-44a6-ae6b-37c1f3af11f8",
   "metadata": {},
   "source": [
    "#### TASK\n",
    "\n",
    "<mark>Write a new encryption and decryption code based on your AES256-CBC-PKCS7 code but that makes use of the ECB mode instead of the CBC one. Wrap the code in two functions (headers given below).</mark>"
   ]
  },
  {
   "cell_type": "code",
   "execution_count": 19,
   "id": "9ab31628-cb46-4ef0-af2e-53cfca13c364",
   "metadata": {},
   "outputs": [],
   "source": [
    "def aes256_ecb_pkcs7_encrypt(data_to_encrypt, key):\n",
    "    cipher = Cipher(algorithms.AES(key), modes.ECB())\n",
    "    padder = padding.PKCS7(128).padder()\n",
    "\n",
    "    padded_message = padder.update(data_to_encrypt) + padder.finalize()\n",
    "\n",
    "    encryptor = cipher.encryptor()\n",
    "    ct = encryptor.update(padded_message) + encryptor.finalize()\n",
    "    \n",
    "    return ct\n",
    "\n",
    "def aes256_ecb_pkcs7_decrypt(encrypted_data, key):\n",
    "    cipher = Cipher(algorithms.AES(key), modes.ECB())\n",
    "    unpadder = padding.PKCS7(128).unpadder()\n",
    "    decryptor = cipher.decryptor()\n",
    "    padded_pt = decryptor.update(encrypted_data) + decryptor.finalize()\n",
    "    unpadded_pt = unpadder.update(padded_pt) + unpadder.finalize()\n",
    "    \n",
    "    return unpadded_pt"
   ]
  },
  {
   "cell_type": "markdown",
   "id": "79262b4d-c616-4d9d-83f8-ff7bb8249162",
   "metadata": {},
   "source": [
    "#### CHECK"
   ]
  },
  {
   "cell_type": "markdown",
   "id": "6afebaf1-9d7c-496d-8546-e0fd544e2e3d",
   "metadata": {},
   "source": [
    "You should obtain the following results if you encrypt <code>message</code> with the same <code>key</code> previously used.\n",
    "<code>\n",
    "message = b'a secret message'\n",
    "key = b'MN\\\\\\xde\\xa1\\xf7\\x9c\\xcf\\x10A\\xa8\\x1e\\x00\\x0eeq\\xe86\\x1c\\x12\\x18\\xa6\\x10\\xfb\\xb9^\\n,0\\xa2kj'\n",
    "padded_message = b'a secret message\\x10\\x10\\x10\\x10\\x10\\x10\\x10\\x10\\x10\\x10\\x10\\x10\\x10\\x10\\x10\\x10' \n",
    "length =  32\n",
    "ciphertext = b'i\\xb0a\\x1b\\x95\\x8f\\x16\\xd6\\xed1\\xc6\\xfc\\xa5\\xab\\xd5F|\\x98\\xfa\\x0b\\x8e\\xab\\xd4\\xd7\\x8e\\x8f\\xf5\\n!&\\xfd\\xbb'\n",
    "hex_ciphertext = 69b0611b958f16d6ed31c6fca5abd5467c98fa0b8eabd4d78e8ff50a2126fdbb\n",
    "padded_plaintext = b'a secret message\\x10\\x10\\x10\\x10\\x10\\x10\\x10\\x10\\x10\\x10\\x10\\x10\\x10\\x10\\x10\\x10'\n",
    "hex_padded_plaintext = 6120736563726574206d65737361676510101010101010101010101010101010\n",
    "plaintext = b'a secret message'\n",
    "hex_plaintext = 6120736563726574206d657373616765\n",
    "</code>"
   ]
  },
  {
   "cell_type": "code",
   "execution_count": 20,
   "id": "738d51a1",
   "metadata": {},
   "outputs": [
    {
     "name": "stdout",
     "output_type": "stream",
     "text": [
      "ciphertext =  b'i\\xb0a\\x1b\\x95\\x8f\\x16\\xd6\\xed1\\xc6\\xfc\\xa5\\xab\\xd5F|\\x98\\xfa\\x0b\\x8e\\xab\\xd4\\xd7\\x8e\\x8f\\xf5\\n!&\\xfd\\xbb'\n",
      "plaintext =  b'a secret message'\n"
     ]
    }
   ],
   "source": [
    "message = b'a secret message'\n",
    "key = b'MN\\\\\\xde\\xa1\\xf7\\x9c\\xcf\\x10A\\xa8\\x1e\\x00\\x0eeq\\xe86\\x1c\\x12\\x18\\xa6\\x10\\xfb\\xb9^\\n,0\\xa2kj'\n",
    "\n",
    "ciphertext = aes256_ecb_pkcs7_encrypt(message, key)\n",
    "print(\"ciphertext = \", ciphertext)\n",
    "\n",
    "plaintext = aes256_ecb_pkcs7_decrypt(ciphertext, key)\n",
    "print(\"plaintext = \", plaintext)"
   ]
  },
  {
   "cell_type": "markdown",
   "id": "00be4e91-67a8-43a0-b92b-90c1587f79d0",
   "metadata": {
    "tags": []
   },
   "source": [
    "### Task 1.3.2 Checking AES 256 ECB PKCS7 "
   ]
  },
  {
   "cell_type": "markdown",
   "id": "7d15c07d-4617-43dc-935a-a8ca5362b067",
   "metadata": {},
   "source": [
    "#### TASK\n",
    "\n",
    "<mark>Test your code now with the message <code>other_message</code>, with a length in char not multiple of 16. </mark>"
   ]
  },
  {
   "cell_type": "code",
   "execution_count": 22,
   "id": "ada3d61f-c27f-475e-860c-9f3edeb00968",
   "metadata": {},
   "outputs": [
    {
     "name": "stdout",
     "output_type": "stream",
     "text": [
      "ciphertext =  b'\\xb8{\\xe1\\x8e\\x9fc\\xfb\\xaa\\x13y\\xb6\\xf5VQW\\xc4\\xa1\\xd0\\xc1! .\\xff\\x9a\\xb4\\xc9X\\x01\\xc2\\xc9\\xf9\\xd0'\n",
      "plaintext =  b'This message is important'\n"
     ]
    }
   ],
   "source": [
    "other_message = b\"This message is important\"\n",
    "key = b'MN\\\\\\xde\\xa1\\xf7\\x9c\\xcf\\x10A\\xa8\\x1e\\x00\\x0eeq\\xe86\\x1c\\x12\\x18\\xa6\\x10\\xfb\\xb9^\\n,0\\xa2kj'\n",
    "\n",
    "ciphertext = aes256_ecb_pkcs7_encrypt(other_message, key)\n",
    "print(\"ciphertext = \", ciphertext)\n",
    "\n",
    "plaintext = aes256_ecb_pkcs7_decrypt(ciphertext, key)\n",
    "print(\"plaintext = \", plaintext)"
   ]
  },
  {
   "cell_type": "markdown",
   "id": "ca33ac6e-8f54-44ae-b3d6-d5cd325d6ecd",
   "metadata": {},
   "source": [
    "#### CHECK\n",
    "\n",
    "You should obtain the following results:\n",
    "<code>\n",
    "other_message = b'This message is important'\n",
    "padded_other_message = b'This message is important\\x07\\x07\\x07\\x07\\x07\\x07\\x07' \n",
    "length =  32\n",
    "ciphertext = b'\\xb8{\\xe1\\x8e\\x9fc\\xfb\\xaa\\x13y\\xb6\\xf5VQW\\xc4\\xa1\\xd0\\xc1! .\\xff\\x9a\\xb4\\xc9X\\x01\\xc2\\xc9\\xf9\\xd0'\n",
    "hex_ciphertext = b87be18e9f63fbaa1379b6f5565157c4a1d0c121202eff9ab4c95801c2c9f9d0\n",
    "padded_plaintext = b'This message is important\\x07\\x07\\x07\\x07\\x07\\x07\\x07'\n",
    "hex_padded_plaintext = 54686973206d65737361676520697320696d706f7274616e7407070707070707\n",
    "plaintext = b'This message is important'\n",
    "hex_plaintext = 54686973206d65737361676520697320696d706f7274616e74\n",
    "</code>"
   ]
  },
  {
   "cell_type": "markdown",
   "id": "46897429-bb2d-45c9-a258-bf7fc5c905f0",
   "metadata": {
    "tags": []
   },
   "source": [
    "### Task 1.3.3 Checking AES 256 ECB PKCS7 against CyberChef"
   ]
  },
  {
   "cell_type": "markdown",
   "id": "699cfe0d-7a59-4dcd-9e54-3f6ff8338dd8",
   "metadata": {
    "tags": []
   },
   "source": [
    "#### TASK"
   ]
  },
  {
   "cell_type": "markdown",
   "id": "6bdba3a1-23fa-4013-a625-1baeacb083f2",
   "metadata": {},
   "source": [
    "<mark>Test again your AES256-ECB-PKCS7 function but this time check your results using the web page tool CyberChef: https://gchq.github.io/CyberChef/ . You have to select, in the left sidebar, 'AES Encrypt' from 'Encryption / Encoding' and ECB mode. </mark>"
   ]
  },
  {
   "cell_type": "markdown",
   "id": "edc06931-db9e-4c54-b692-33b016020c2b",
   "metadata": {
    "tags": []
   },
   "source": [
    "### Task 1.3.4 Generating cryptographically secure random bytes"
   ]
  },
  {
   "cell_type": "markdown",
   "id": "272dbaa4-06b2-411a-888d-b96f4b39cc15",
   "metadata": {},
   "source": [
    "Till now you have used fixed and given key and iv in your AES256 code. However, ideally, you should randomly generate these parameters each time you need them, at least in the first encryption step. Notice that it is not the same case in the decryption step, as here you must use the same parameters used in the encryption step if you want to correctly recover the plaintext.\n",
    "\n",
    "Let’s learn first how to generate <ins>cryptographically secure</ins> random bytes.\n",
    "\n",
    "Read the information provided in the web page section: https://cryptography.io/en/latest/random-numbers/#random-number-generation\n",
    "\n",
    "Two possibilities are highlighted:\n",
    "\n",
    "- Using the function <code>urandom(..)</code> from the os module (https://docs.python.org/3/library/os.html#os.urandom)\n",
    "\n",
    "- Using the function <code>token_bytes(..)</code> from the secrets module (https://docs.python.org/3/library/secrets.html#secrets.token_bytes)\n",
    "\n",
    "You should have imported both in Section 0."
   ]
  },
  {
   "cell_type": "markdown",
   "id": "09dfd056-a4b0-406e-9ce8-95eeb8cf8806",
   "metadata": {},
   "source": [
    "#### TASK\n",
    "\n",
    "<mark>Try both ways with the code shown next. Notice that each time you execute the code, new bytes are obtained.</mark>"
   ]
  },
  {
   "cell_type": "code",
   "execution_count": 24,
   "id": "27c4dac9-0073-4a45-980a-64e56d6ce2c9",
   "metadata": {},
   "outputs": [
    {
     "name": "stdout",
     "output_type": "stream",
     "text": [
      "b'i\\x905\\x14\\xa4&BK-\\xbd;\\x13\\xd6\\x10\\xa0\\x90'\n",
      "b's\\x8f>t\\x8e\\x07\\r\\xe4o\\x17\\xd3\\xbb7AJ\\x17Z\\x8b%\\x86-\\xa5\\x9a)\\xb8\\x8bWV\\x19\\xec\\xd6\\xff'\n"
     ]
    }
   ],
   "source": [
    "# import os \n",
    "# import secrets\n",
    "\n",
    "print(os.urandom(16))            # generating 16 random bytes\n",
    "print(secrets.token_bytes(32))   # generating 32 random bytes"
   ]
  },
  {
   "cell_type": "markdown",
   "id": "d5556397-0e94-4ad8-b41a-d5f12025f8fa",
   "metadata": {
    "tags": []
   },
   "source": [
    "### Task 1.3.5 No-key AES 256 ECB PKCS7 and No-key_no-iv AES 256 CBC PKCS7 encryption functions"
   ]
  },
  {
   "cell_type": "markdown",
   "id": "81d10f9d-b188-4a7b-9081-e8b51f76bd7f",
   "metadata": {},
   "source": [
    "Let’s change the your AES256-ECB-PKCS7 encryption code so if no key is provided, the key is randomly generated. Both the ciphertext and the key should be provided as output. Use the code provided below 14 as guide to write a new function <code>aes256_ecb_pkcs7_encrypt_rnd(..)</code> that incorporates this functionality. \n",
    "\n",
    "Note that the function expects two parameters but by writing <code>key=None</code> in the function header for the second one, we allow its absence (that is, it is optional to call the function with a second parameter) and at the same time we provide a default value if it is not provided (in this case this default value is the <code>None</code> value). This means also that, if the key value is not provided, we have to provide a key value inside the function code (in the provided code <code>os.urandom(..)</code> is used to generate this value randomly). As the key value is needed for decryption, notice that we also return it together with the resulting ciphertext. \n",
    "\n",
    "The same happens with the initialization vector <code>iv</code> in the case of the CBC mode. Notice that in the case of AES cipher, the <code>iv</code> size is the same as the block size, that is, 16 bytes."
   ]
  },
  {
   "cell_type": "markdown",
   "id": "ab29d394-863e-4eb6-9d67-d9ae834fad0a",
   "metadata": {},
   "source": [
    "#### TASK"
   ]
  },
  {
   "cell_type": "markdown",
   "id": "5ab2ebf2-e785-4155-8d58-acd4e8d2642a",
   "metadata": {},
   "source": [
    "<mark>Re-write the encryption functions as explained taking the following headers and code as starting point.</mark>"
   ]
  },
  {
   "cell_type": "code",
   "execution_count": 25,
   "id": "a69d94f9-a83d-4f5d-8fab-ed7ac7b80ed2",
   "metadata": {},
   "outputs": [],
   "source": [
    "def aes256_ecb_pkcs7_encrypt_rnd(data_to_encrypt, key=None):\n",
    "    if key is None:\n",
    "        key = os.urandom(32) \n",
    "\n",
    "    cipher = Cipher(algorithms.AES(key), modes.ECB())\n",
    "    padder = padding.PKCS7(128).padder()\n",
    "\n",
    "    padded_message = padder.update(data_to_encrypt) + padder.finalize()\n",
    "\n",
    "    encryptor = cipher.encryptor()\n",
    "    ct = encryptor.update(padded_message) + encryptor.finalize()\n",
    "    \n",
    "    return ct, key\n",
    "\n",
    "def aes256_cbc_pkcs7_encrypt_rnd(data_to_encrypt, key=None, iv=None):\n",
    "    if not key:\n",
    "        key = os.urandom(16)\n",
    "    \n",
    "    if not iv:\n",
    "        iv = os.urandom(16)\n",
    "    \n",
    "    cipher = Cipher(algorithms.AES(key), modes.CBC(iv))\n",
    "    padder = padding.PKCS7(128).padder()\n",
    "\n",
    "    padded_message = padder.update(data_to_encrypt) + padder.finalize()\n",
    "\n",
    "    encryptor = cipher.encryptor()\n",
    "    ct = encryptor.update(padded_message) + encryptor.finalize()\n",
    "    \n",
    "    return ct, key, iv"
   ]
  },
  {
   "cell_type": "markdown",
   "id": "89abb6d7-be63-4916-b236-a6bd45ee854a",
   "metadata": {},
   "source": [
    "#### CHECK\n",
    "\n",
    "Once you have the code running, try to encrypt and decrypt the same message and check that different keys and ciphertext are obtained."
   ]
  },
  {
   "cell_type": "code",
   "execution_count": 26,
   "id": "d38fae1c-3d7d-40dc-83ec-21a998b18b1e",
   "metadata": {},
   "outputs": [
    {
     "name": "stdout",
     "output_type": "stream",
     "text": [
      "# ECB FIRST RUN\n",
      "hex_randomkey1 = b8f5d67ba237807419047df64f08bc6881883f61b459a0c79c5f0544278ef523 \n",
      "hex_ciphertext1 = 83a29cb592bf103a21d2654c2d6b20142434d6912a02f0a2a780c99fe7b3fd73\n",
      "plaintext1 =  b'This message is important'\n",
      "\n",
      "# ECB SECOND RUN\n",
      "hex_randomkey2 = ac00235a3a55f6ed6cbffa44eafe53b5fc8021a7d0950022c9dab91282a2f148 \n",
      "hex_ciphertext2 = 7b788b6b9d79f66e372e4109abadeaaab0e9b8f221b28922d154d838cf3a3730\n",
      "plaintext2 =  b'This message is important'\n"
     ]
    }
   ],
   "source": [
    "# CHECK ECB FUNCTION\n",
    "\n",
    "print(\"# ECB FIRST RUN\")\n",
    "ciphertext1, randomkey1 = aes256_ecb_pkcs7_encrypt_rnd(b\"This message is important\")\n",
    "print(\"hex_randomkey1 =\", randomkey1.hex(), \"\\nhex_ciphertext1 =\", ciphertext1.hex())\n",
    "plaintext1 = aes256_ecb_pkcs7_decrypt(ciphertext1, randomkey1)\n",
    "print(\"plaintext1 = \", plaintext1)\n",
    "\n",
    "print(\"\\n# ECB SECOND RUN\")\n",
    "ciphertext2, randomkey2 = aes256_ecb_pkcs7_encrypt_rnd(b\"This message is important\")\n",
    "print(\"hex_randomkey2 =\", randomkey2.hex(), \"\\nhex_ciphertext2 =\", ciphertext2.hex())\n",
    "plaintext2 = aes256_ecb_pkcs7_decrypt(ciphertext2, randomkey2)\n",
    "print(\"plaintext2 = \", plaintext2)"
   ]
  },
  {
   "cell_type": "code",
   "execution_count": 29,
   "id": "80b988a5-d99b-4edf-af0e-2ec3677c37cf",
   "metadata": {},
   "outputs": [
    {
     "name": "stdout",
     "output_type": "stream",
     "text": [
      "# CBC FIRST RUN\n",
      "hex_randomkey1 = a37dccad9a3a9a35fbc97874b57b7384 \n",
      "hex_ciphertext1 = a1fabb51ff92f22ceb8763abc91c01c77580f8d57609925b35d36f8128459c12 \n",
      "hex_randomiv1 = 7c50573b04102d2ffb82f568f33ffaff\n",
      "plaintext1 =  b'This message is important'\n",
      "\n",
      "# CBC SECOND RUN\n",
      "hex_randomkey2 = d54d4a3225f3fb203e048a566bc8bffd \n",
      "hex_ciphertext2 = ea5a0855ba9b796354b7069bb1b02bb4124aff7ec5e0b7fdefeb0e6034e82c3c \n",
      "hex_randomiv2 = e4314e095f21d0230fab66db4a7cb66f\n",
      "plaintext2 =  b'This message is important'\n"
     ]
    }
   ],
   "source": [
    "# CHECK CBC FUNCTION\n",
    "\n",
    "print(\"# CBC FIRST RUN\")\n",
    "ciphertext1, randomkey1, randomiv1= aes256_cbc_pkcs7_encrypt_rnd(b\"This message is important\")\n",
    "print(\"hex_randomkey1 =\", randomkey1.hex(), \"\\nhex_ciphertext1 =\", ciphertext1.hex(), \"\\nhex_randomiv1 =\", randomiv1.hex())\n",
    "plaintext1 = aes256_cbc_pkcs7_decrypt(ciphertext1, randomkey1, randomiv1)\n",
    "print(\"plaintext1 = \", plaintext1)\n",
    "\n",
    "print(\"\\n# CBC SECOND RUN\")\n",
    "ciphertext2, randomkey2, randomiv2 = aes256_cbc_pkcs7_encrypt_rnd(b\"This message is important\")\n",
    "print(\"hex_randomkey2 =\", randomkey2.hex(), \"\\nhex_ciphertext2 =\", ciphertext2.hex(), \"\\nhex_randomiv2 =\", randomiv2.hex())\n",
    "plaintext2 = aes256_cbc_pkcs7_decrypt(ciphertext2, randomkey2, randomiv2)\n",
    "print(\"plaintext2 = \", plaintext2)"
   ]
  },
  {
   "cell_type": "markdown",
   "id": "4a161a27-eb7a-4e48-b6bd-e85ef8518bc7",
   "metadata": {
    "tags": []
   },
   "source": [
    "## 1.4 AES256 - CTR MODE"
   ]
  },
  {
   "cell_type": "markdown",
   "id": "a68cce21-93c4-4f1c-a697-0a5849430c02",
   "metadata": {},
   "source": [
    "Let’s now use the CTR operation mode. You can consult the library documentation for this mode here: \n",
    "https://cryptography.io/en/latest/hazmat/primitives/symmetric-encryption/#cryptography.hazmat.primitives.ciphers.modes.CTR \n",
    "Notice that in this case you do not need an initialization vector, but you need a nonce to initialize the counter. "
   ]
  },
  {
   "cell_type": "markdown",
   "id": "a3c9a1f4-06c9-4514-a720-a143f9319ec7",
   "metadata": {
    "tags": []
   },
   "source": [
    "### Task 1.4.1 Encrypt/decrypt with AES 256 CTR"
   ]
  },
  {
   "cell_type": "markdown",
   "id": "2019d5d6-a498-4009-9b4c-c5695de0ca6c",
   "metadata": {
    "tags": []
   },
   "source": [
    "#### QUESTION"
   ]
  },
  {
   "cell_type": "markdown",
   "id": "c73ba01b-f5ca-45dd-ac26-90aa26a69e6f",
   "metadata": {},
   "source": [
    "<mark>Review your notes on CTR operation mode. Does CTR operation mode need padding? That is, is a requirement that the length of the data to encrypt in bytes is multiple of the cipher block size?</mark>"
   ]
  },
  {
   "cell_type": "markdown",
   "id": "5ac9f093-7794-41a7-9dc0-5f34dae06b71",
   "metadata": {},
   "source": [
    "No, CTR operation mode does not need padding."
   ]
  },
  {
   "cell_type": "markdown",
   "id": "5dc4dd68-2b3b-46ba-8959-f47c04bd6ac7",
   "metadata": {},
   "source": [
    "#### TASK"
   ]
  },
  {
   "cell_type": "markdown",
   "id": "284863de-ac6c-4e8a-abc3-d0c25adfa294",
   "metadata": {},
   "source": [
    "<mark>Write two new encryption and one decryption functions based on your AES256-CBC code but that makes use of the CTR mode instead of the CBC one. Notice that PKCS7 padding will NOT be applied.</mark>"
   ]
  },
  {
   "cell_type": "code",
   "execution_count": 36,
   "id": "12df94b3-76df-48de-86cb-cf8d1f4bb316",
   "metadata": {},
   "outputs": [],
   "source": [
    "nonce = b'\\xf4$\\x89\\xab{\\xa4-`:\\xdeq\\xb5m\\x1b\\xd3\\x98'\n",
    "\n",
    "def aes256_ctr_encrypt(data_to_encrypt, key, nonce):\n",
    "    cipher = Cipher(algorithms.AES(key), modes.CTR(nonce))\n",
    "\n",
    "    encryptor = cipher.encryptor()\n",
    "    ct = encryptor.update(data_to_encrypt) + encryptor.finalize()\n",
    "    \n",
    "    return ct \n",
    "\n",
    "\n",
    "def aes256_ctr_decrypt(encrypted_data, key, nonce):\n",
    "    cipher = Cipher(algorithms.AES(key), modes.CTR(nonce))\n",
    "    decryptor = cipher.decryptor()\n",
    "    padded_pt = decryptor.update(encrypted_data) + decryptor.finalize()\n",
    "    \n",
    "    return padded_pt \n",
    "\n",
    "\n",
    "def aes256_ctr_encrypt_rnd(data_to_encrypt, key=None, nonce=None):\n",
    "    if not key:\n",
    "        key = os.urandom(16)\n",
    "    \n",
    "    if not nonce:\n",
    "        nonce = os.urandom(16)\n",
    "\n",
    "    cipher = Cipher(algorithms.AES(key), modes.CTR(nonce))\n",
    "\n",
    "    encryptor = cipher.encryptor()\n",
    "    ct = encryptor.update(data_to_encrypt) + encryptor.finalize()\n",
    "    \n",
    "    return ct "
   ]
  },
  {
   "cell_type": "markdown",
   "id": "ee82c58f-5f84-47ab-9e00-36e1c96de874",
   "metadata": {},
   "source": [
    "#### CHECK"
   ]
  },
  {
   "cell_type": "code",
   "execution_count": 37,
   "id": "decc1346-07a5-4372-9d76-b469d92cb4ca",
   "metadata": {},
   "outputs": [
    {
     "name": "stdout",
     "output_type": "stream",
     "text": [
      "other_message : b'This message is important'\n",
      "key = b'MN\\\\\\xde\\xa1\\xf7\\x9c\\xcf\\x10A\\xa8\\x1e\\x00\\x0eeq\\xe86\\x1c\\x12\\x18\\xa6\\x10\\xfb\\xb9^\\n,0\\xa2kj'\n",
      "hex_key = 4d4e5cdea1f79ccf1041a81e000e6571e8361c1218a610fbb95e0a2c30a26b6a\n",
      "nonce = b'\\xf4$\\x89\\xab{\\xa4-`:\\xdeq\\xb5m\\x1b\\xd3\\x98'\n",
      "hex_nonce = f42489ab7ba42d603ade71b56d1bd398\n",
      "ciphertext1 = a79a1e04ca64996bb6a2644692ec77449d189e30177d2992d8 \n",
      "length ciphertext1 = 25\n",
      "ciphertext2 = a79a1e04ca64996bb6a2644692ec77449d189e30177d2992d8e6e3ceba38e8690d5be581bbd93f69a7236edf40d9d900ae96 \n",
      "length ciphertext2 = 50\n",
      "plaintext1 = b'This message is important'\n",
      "plaintext2 = b'This message is importantThis message is important'\n"
     ]
    }
   ],
   "source": [
    "# CHECK YOUR CODE\n",
    "\n",
    "nonce = b'\\xf4$\\x89\\xab{\\xa4-`:\\xdeq\\xb5m\\x1b\\xd3\\x98'\n",
    "\n",
    "print(\"other_message :\", other_message)\n",
    "print(\"key =\", key)\n",
    "print(\"hex_key =\", key.hex())\n",
    "print(\"nonce =\", nonce)\n",
    "print(\"hex_nonce =\", nonce.hex())\n",
    "\n",
    "ciphertext1 = aes256_ctr_encrypt(other_message, key, nonce)\n",
    "ciphertext2 = aes256_ctr_encrypt(other_message+other_message, key, nonce)\n",
    "\n",
    "print(\"ciphertext1 =\", ciphertext1.hex(), \"\\nlength ciphertext1 =\", len(ciphertext1))\n",
    "print(\"ciphertext2 =\", ciphertext2.hex(), \"\\nlength ciphertext2 =\", len(ciphertext2))\n",
    "\n",
    "plaintext1 = aes256_ctr_decrypt(ciphertext1, key, nonce)\n",
    "plaintext2 = aes256_ctr_decrypt(ciphertext2, key, nonce)\n",
    "\n",
    "print(\"plaintext1 =\", plaintext1)\n",
    "print(\"plaintext2 =\", plaintext2)"
   ]
  },
  {
   "cell_type": "markdown",
   "id": "1646a4b0-299e-440a-8d19-254a81d98681",
   "metadata": {},
   "source": [
    "You should obtain the following results if you encrypt <code>other_message</code> and two times <code>other_message</code> with the same <code>key</code> previously used and the provided <code>nonce</code>.\n",
    "<code>\n",
    "other_message : b'This message is important'\n",
    "key = b'MN\\\\\\xde\\xa1\\xf7\\x9c\\xcf\\x10A\\xa8\\x1e\\x00\\x0eeq\\xe86\\x1c\\x12\\x18\\xa6\\x10\\xfb\\xb9^\\n,0\\xa2kj'\n",
    "hex_key = 4d4e5cdea1f79ccf1041a81e000e6571e8361c1218a610fbb95e0a2c30a26b6a\n",
    "nonce = b'\\xf4$\\x89\\xab{\\xa4-`:\\xdeq\\xb5m\\x1b\\xd3\\x98'\n",
    "hex_nonce = f42489ab7ba42d603ade71b56d1bd398\n",
    "ciphertext1 = a79a1e04ca64996bb6a2644692ec77449d189e30177d2992d8 \n",
    "length ciphertext1 = 25\n",
    "ciphertext2 = a79a1e04ca64996bb6a2644692ec77449d189e30177d2992d8e6e3ceba38e8690d5be581bbd93f69a7236edf40d9d900ae96 \n",
    "length  ciphertext2 = 50\n",
    "plaintext1 = b'This message is important'\n",
    "plaintext2 = b'This message is importantThis message is important'\n",
    "</code>"
   ]
  },
  {
   "cell_type": "markdown",
   "id": "b2fb2ef9-69a3-4b17-8122-1641cfab83fe",
   "metadata": {},
   "source": [
    "#### QUESTION\n",
    "\n",
    "<mark>Which length in bytes has the input data to encrypt in Task 1.4.1? And the output ciphertext? Is the length of the output ciphertext multiple of the cipher block size or not and why?</mark> "
   ]
  },
  {
   "cell_type": "code",
   "execution_count": 38,
   "id": "f36b7f65",
   "metadata": {},
   "outputs": [
    {
     "name": "stdout",
     "output_type": "stream",
     "text": [
      "Length of input data:  25\n"
     ]
    }
   ],
   "source": [
    "print(\"Length of input data: \", len(other_message))"
   ]
  },
  {
   "cell_type": "markdown",
   "id": "0cd2908b-103e-4375-8935-afb94e72cb93",
   "metadata": {},
   "source": [
    "The length of the input data is 25 bytes. The ciphertext is also a length of 25 bytes, which is not a multiple of the cipher block size. This is because CTR mode effectively does stream encryption, so it will encrypt every single byte."
   ]
  },
  {
   "cell_type": "markdown",
   "id": "234a2d39-dd70-49d4-b6f8-5efc33e3cbdb",
   "metadata": {
    "tags": []
   },
   "source": [
    "### Task 1.4.2 Checking AES 256 CTR against CyberChef"
   ]
  },
  {
   "cell_type": "markdown",
   "id": "c7ec7a08-3a80-4884-8312-8aff8c6c1dc0",
   "metadata": {
    "tags": []
   },
   "source": [
    "#### TASK"
   ]
  },
  {
   "cell_type": "markdown",
   "id": "130123d6-a82e-405a-bce0-1537ffef2f5c",
   "metadata": {},
   "source": [
    "<mark>Test again your AES256-CTR code but this time check your results using the web page tool CyberChef: https://gchq.github.io/CyberChef/ </mark>"
   ]
  },
  {
   "cell_type": "markdown",
   "id": "1e1e7b9d-2812-46f6-b431-4683f0439075",
   "metadata": {},
   "source": [
    "## 1.5 ADDITIONAL ASPECTS OF OPERATION MODES"
   ]
  },
  {
   "cell_type": "markdown",
   "id": "284ddf2f-f57b-4bc6-af7e-e9a813ad1a13",
   "metadata": {
    "tags": []
   },
   "source": [
    "### Task 1.5.1 No-padding AES 256 ECB and CBC functions"
   ]
  },
  {
   "cell_type": "markdown",
   "id": "4a0616f3-a2be-49ae-84d7-70888a437c2d",
   "metadata": {},
   "source": [
    "You have already been questioned about the difference in the output lengths when different operation modes are used and when padding is added or not. Now you’ll study what happens when you intentionally modify one bit (or octet) of a ciphertext and then decrypt the modified ciphertext. \n",
    "\n",
    "In order to play with modifications in the ciphertext, it is better to avoid PKCS7 padding, as if modifications affect the padding, it will probably raise an error and you’ll not be able to study the effects of the modifications in the plaintext after decryption. "
   ]
  },
  {
   "cell_type": "markdown",
   "id": "4d17240f-899e-41ed-b938-eadc7d0ae276",
   "metadata": {
    "tags": []
   },
   "source": [
    "#### TASK \n",
    "\n",
    "<mark>Write a new set of functions for AES256-CBC and AES256-ECB encryption and decryption that do not apply padding.</mark>"
   ]
  },
  {
   "cell_type": "code",
   "execution_count": 40,
   "id": "8872c1a2-0c06-475f-b917-3ed6bbd6e72f",
   "metadata": {},
   "outputs": [],
   "source": [
    "def aes256_cbc_encrypt(data_to_encrypt, key, iv):\n",
    "    cipher = Cipher(algorithms.AES(key), modes.CBC(iv))\n",
    "\n",
    "    encryptor = cipher.encryptor()\n",
    "    ct = encryptor.update(data_to_encrypt) + encryptor.finalize()\n",
    "    \n",
    "    return ct\n",
    "    \n",
    "def aes256_cbc_decrypt(encrypted_data, key, iv):\n",
    "    cipher = Cipher(algorithms.AES(key), modes.CBC(iv))\n",
    "    decryptor = cipher.decryptor()\n",
    "    plaintext = decryptor.update(encrypted_data) + decryptor.finalize()\n",
    "    \n",
    "    return plaintext\n",
    "\n",
    "def aes256_ecb_encrypt(data_to_encrypt, key):\n",
    "    cipher = Cipher(algorithms.AES(key), modes.ECB())\n",
    "\n",
    "    encryptor = cipher.encryptor()\n",
    "    ct = encryptor.update(data_to_encrypt) + encryptor.finalize()\n",
    "    \n",
    "    return ct\n",
    "\n",
    "def aes256_ecb_decrypt(encrypted_data, key):\n",
    "    cipher = Cipher(algorithms.AES(key), modes.ECB())\n",
    "    decryptor = cipher.decryptor()\n",
    "    plaintext = decryptor.update(encrypted_data) + decryptor.finalize()\n",
    "    \n",
    "    return plaintext\n"
   ]
  },
  {
   "cell_type": "markdown",
   "id": "69823b9e-e0bd-4ec8-967a-9e8b78222e4c",
   "metadata": {
    "tags": []
   },
   "source": [
    "#### CHECK\n",
    "\n",
    "Test your functions by encrypting messages with length in chars multiple of 16 and then decrypting the resulting ciphertext."
   ]
  },
  {
   "cell_type": "code",
   "execution_count": 41,
   "id": "b05929ba-f407-4ffa-b2c0-4435b98711ed",
   "metadata": {},
   "outputs": [
    {
     "name": "stdout",
     "output_type": "stream",
     "text": [
      "message : b'a secret message'\n",
      "key : b'MN\\\\\\xde\\xa1\\xf7\\x9c\\xcf\\x10A\\xa8\\x1e\\x00\\x0eeq\\xe86\\x1c\\x12\\x18\\xa6\\x10\\xfb\\xb9^\\n,0\\xa2kj'\n",
      "hex_key : 4d4e5cdea1f79ccf1041a81e000e6571e8361c1218a610fbb95e0a2c30a26b6a\n",
      "iv : b'\\x7f\\xb3W\\x84\\x1a9KN~\\xafs\\xfc\\x9f\\xb6\\xcc\\xb8'\n",
      "hex_iv : 7fb357841a394b4e7eaf73fc9fb6ccb8\n",
      "AES256-CBC ciphertext:  b';\\xa6\\xe5\\x85;^\\xc2&\\xec\\x07|\\x03\\xcc\\r\\xaeN'\n",
      "AES256-CBC plaintext:  b'a secret message'\n",
      "AES256-ECB ciphertext:  b'i\\xb0a\\x1b\\x95\\x8f\\x16\\xd6\\xed1\\xc6\\xfc\\xa5\\xab\\xd5F'\n",
      "AES256-ECB plaintext:  b'a secret message'\n"
     ]
    }
   ],
   "source": [
    "# CHECKING YOUR CODE\n",
    "\n",
    "print(\"message :\", message)\n",
    "print(\"key :\", key)\n",
    "print(\"hex_key :\", key.hex())\n",
    "print(\"iv :\", iv)\n",
    "print(\"hex_iv :\", iv.hex())\n",
    "\n",
    "print(\"AES256-CBC ciphertext: \", aes256_cbc_encrypt(message, key, iv))\n",
    "print(\"AES256-CBC plaintext: \", aes256_cbc_decrypt(aes256_cbc_encrypt(message, key, iv), key, iv))\n",
    "\n",
    "print(\"AES256-ECB ciphertext: \", aes256_ecb_encrypt(message, key))\n",
    "print(\"AES256-ECB plaintext: \", aes256_ecb_decrypt(aes256_ecb_encrypt(message, key), key))"
   ]
  },
  {
   "cell_type": "markdown",
   "id": "acfc26c3-41b5-4408-b88e-5874dcc0284a",
   "metadata": {},
   "source": [
    "With the previously used values for <code>message</code>, <code>key</code> and <code>iv</code>, you should obtain the following results:\n",
    "<code>\n",
    "message : b'a secret message'\n",
    "key : b'MN\\\\\\xde\\xa1\\xf7\\x9c\\xcf\\x10A\\xa8\\x1e\\x00\\x0eeq\\xe86\\x1c\\x12\\x18\\xa6\\x10\\xfb\\xb9^\\n,0\\xa2kj'\n",
    "hex_key : 4d4e5cdea1f79ccf1041a81e000e6571e8361c1218a610fbb95e0a2c30a26b6a\n",
    "iv : b'\\x7f\\xb3W\\x84\\x1a9KN~\\xafs\\xfc\\x9f\\xb6\\xcc\\xb8'\n",
    "hex_iv : 7fb357841a394b4e7eaf73fc9fb6ccb8\n",
    "AES256-CBC ciphertext:  b';\\xa6\\xe5\\x85;^\\xc2&\\xec\\x07|\\x03\\xcc\\r\\xaeN'\n",
    "AES256-CBC plaintext:  b'a secret message'\n",
    "AES256-ECB ciphertext:  b'i\\xb0a\\x1b\\x95\\x8f\\x16\\xd6\\xed1\\xc6\\xfc\\xa5\\xab\\xd5F'\n",
    "AES256-ECB plaintext:  b'a secret message'\n",
    "</code>"
   ]
  },
  {
   "cell_type": "markdown",
   "id": "48543eba-f832-4b05-9efc-65dd88e1cc3a",
   "metadata": {
    "tags": []
   },
   "source": [
    "### Task 1.5.2 Effects of modifying ciphertext under different operation modes "
   ]
  },
  {
   "cell_type": "markdown",
   "id": "ad18bce3-0979-4864-ac9c-005da5ea3f4f",
   "metadata": {
    "tags": []
   },
   "source": [
    "#### TASK\n",
    "\n",
    "<mark>Now, analyse how the decrypted plaintext changes after modifying one bit of the ciphertext at different positions (one in the first block, another in the second block…).</mark>\n",
    "\n",
    "Suggested steps:\n",
    "- Select a message with at least 48-char length (remember that the length in char has to be multiple of 16)\n",
    "- Select a key, and iv and nonce if necessary\n",
    "- Encrypt the message operating the cipher with the selected mode\n",
    "- Save the ciphertext in one variable (ciphertext)\n",
    "- Modify the previous ciphertext in one bit and save the result in another variable (modified_ciphertext)\n",
    "- Decrypt both the ciphertext and its modified version, saving the decryptions, respectively, in two variables plaintext and modified_plaintext\n",
    "- Analyse how the ciphertext modification has affected the plaintext"
   ]
  },
  {
   "cell_type": "code",
   "execution_count": 56,
   "id": "de823411-336a-4bd1-82af-8cfe5ff77d37",
   "metadata": {},
   "outputs": [
    {
     "name": "stdout",
     "output_type": "stream",
     "text": [
      "Decrypted ciphertext via CBC:  b'This is a 48-character long sample message! 1234'\n",
      "Decrypted modified ciphertext via CBC:  b\"This is a 48-character long samp'\\xf8a\\x8a\\x91\\xfa/\\x04\\xf7\\xbe\\xd11\\xed\\x02\\\\\\xfa\"\n",
      "Decrypted ciphertext via ECB:  b'This is a 48-character long sample message! 1234'\n",
      "Decrypted modified ciphertext via ECB:  b'This is a 48-character long samp\\x0b\\xd2\\xa3\\\\.\"\\xa7\\xb8S\\x8a;\\xa9\\x15\\xa4M\\x8d'\n",
      "Decrypted ciphertext via CTR:  b'This is a 48-character long sample message! 1234'\n",
      "Decrypted modified ciphertext via CTR:  b'This is a 48-character long sample message! 1235'\n"
     ]
    }
   ],
   "source": [
    "message = b'This is a 48-character long sample message! 1234'\n",
    "modified_byte_mask = 0x01\n",
    "\n",
    "# CBC\n",
    "cbc_ciphertext = aes256_cbc_encrypt(message, key, iv)\n",
    "\n",
    "# Modifying one byte in ciphertext\n",
    "cbc_modified_ciphertext = cbc_ciphertext[:len(cbc_ciphertext)-1] + bytes([cbc_ciphertext[-1] ^ 1])\n",
    "\n",
    "# Decrypting CBC\n",
    "cbc_decrypted = aes256_cbc_decrypt(cbc_ciphertext, key, iv)\n",
    "cbc_modified_decrypted = aes256_cbc_decrypt(cbc_modified_ciphertext, key, iv) \n",
    "print(\"Decrypted ciphertext via CBC: \", cbc_decrypted)\n",
    "print(\"Decrypted modified ciphertext via CBC: \", cbc_modified_decrypted)\n",
    "\n",
    "\n",
    "# ECB\n",
    "ecb_ciphertext = aes256_ecb_encrypt(message, key)\n",
    "\n",
    "# Modifying one byte in ciphertext\n",
    "ecb_modified_ciphertext = ecb_ciphertext[:len(ecb_ciphertext)-1] + bytes([ecb_ciphertext[-1] ^ 1])\n",
    "\n",
    "# Decrypting CBC\n",
    "ecb_decrypted = aes256_ecb_decrypt(ecb_ciphertext, key)\n",
    "ecb_modified_decrypted = aes256_ecb_decrypt(ecb_modified_ciphertext, key) \n",
    "print(\"Decrypted ciphertext via ECB: \", ecb_decrypted)\n",
    "print(\"Decrypted modified ciphertext via ECB: \", ecb_modified_decrypted)\n",
    "\n",
    "\n",
    "# CTR\n",
    "ctr_ciphertext = aes256_ctr_encrypt(message, key, nonce)\n",
    "\n",
    "# Modifying one byte in ciphertext\n",
    "ctr_modified_ciphertext = ctr_ciphertext[:len(ctr_ciphertext)-1] + bytes([ctr_ciphertext[-1] ^ 1])\n",
    "\n",
    "# Decrypting CBC\n",
    "ctr_decrypted = aes256_ctr_decrypt(ctr_ciphertext, key, nonce)\n",
    "ctr_modified_decrypted = aes256_ctr_decrypt(ctr_modified_ciphertext, key, nonce) \n",
    "print(\"Decrypted ciphertext via CTR: \", ctr_decrypted)\n",
    "print(\"Decrypted modified ciphertext via CTR: \", ctr_modified_decrypted)\n"
   ]
  },
  {
   "cell_type": "markdown",
   "id": "6a971bfc-5d79-4e7b-8e97-c113ce60892a",
   "metadata": {},
   "source": [
    "#### QUESTION\n",
    "\n",
    "<mark>How many bits (or bytes) are affected in each case (ECB, CBC, CTR)? Which are their positions? Can you explain the reasons in each case considering the course notes on operation modes?</mark>"
   ]
  },
  {
   "cell_type": "markdown",
   "id": "ee326d5e-6853-46c3-b085-eb50fddc9e48",
   "metadata": {},
   "source": [
    "ECB: the block with the affected bit will be affected. This is because ECB encrypts and decrypts each block independently.\n",
    "\n",
    "CBC: the block with the affected bit and the following block will be affected. This is because CBC XORs the previous ciphertext block with the next plaintext, which will mangle the bits.\n",
    "\n",
    "CTR: only one bit will be affected. This is because CTR is effectively stream encrypting."
   ]
  },
  {
   "cell_type": "markdown",
   "id": "bc7dfab1-5113-42e9-a4dc-1c1bac0a94fc",
   "metadata": {},
   "source": [
    "## 1.6 OTHER CIPHERS AND KEY SIZES"
   ]
  },
  {
   "cell_type": "markdown",
   "id": "3132b0d0-618d-4249-a37f-51c11c797713",
   "metadata": {},
   "source": [
    "### Task 1.6.1 Camellia symmetric block cipher"
   ]
  },
  {
   "cell_type": "markdown",
   "id": "414f2a13-7142-4807-a901-123f60e0e521",
   "metadata": {},
   "source": [
    "#### TASK"
   ]
  },
  {
   "cell_type": "markdown",
   "id": "729d680a-c096-46dc-ac02-7deb75d565df",
   "metadata": {},
   "source": [
    "<mark>Now, create new functions similar to the ones already coded but that in this case use the Camellia cipher and other key sizes. Consult the library documentation to know more about the Camellia cipher and available key sizes for both AES and Camellia.</mark>"
   ]
  },
  {
   "cell_type": "code",
   "execution_count": 61,
   "id": "6c73bd2a-8e7a-4150-bd17-33317bf86242",
   "metadata": {},
   "outputs": [],
   "source": [
    "def camellia_ecb_encrypt(data_to_encrypt, key):\n",
    "    cipher = Cipher(algorithms.Camellia(key), modes.ECB())\n",
    "\n",
    "    encryptor = cipher.encryptor()\n",
    "    ct = encryptor.update(data_to_encrypt) + encryptor.finalize()\n",
    "    \n",
    "    return ct\n",
    "    \n",
    "def camellia_ecb_decrypt(encrypted_data, key):\n",
    "    cipher = Cipher(algorithms.Camellia(key), modes.ECB())\n",
    "    decryptor = cipher.decryptor()\n",
    "    plaintext = decryptor.update(encrypted_data) + decryptor.finalize()\n",
    "    \n",
    "    return plaintext"
   ]
  },
  {
   "cell_type": "code",
   "execution_count": 63,
   "id": "f2af3806",
   "metadata": {},
   "outputs": [
    {
     "name": "stdout",
     "output_type": "stream",
     "text": [
      "message =  b'This is a 48-character long sample message! 1234'\n",
      "encrypted camellia msg:  b'[\\xbdd\\xa9\\x7f\\xcb~S\\xc4\\xd5N\\xf0}\\xbe\\xc6<A\\xe7\\xd0P\\xd7\\xb6g\\tm\\xdd\\x01\\x99\\xc3\\xf1\\xc6C\\xff\\xdb\\xcd~\\xffj]\\x03P\\x08<\\n\\xa2\\xc45\\xa8'\n",
      "decrypted camellia msg:  b'This is a 48-character long sample message! 1234'\n"
     ]
    }
   ],
   "source": [
    "print(\"message = \", message)\n",
    "\n",
    "encrypted_camellia_msg = camellia_ecb_encrypt(message, key)\n",
    "print(\"encrypted camellia msg: \", encrypted_camellia_msg)\n",
    "\n",
    "decrypted_camellia_msg = camellia_ecb_decrypt(encrypted_camellia_msg, key)\n",
    "print(\"decrypted camellia msg: \", decrypted_camellia_msg)"
   ]
  },
  {
   "cell_type": "markdown",
   "id": "e8e1b2f8-de7d-4d2f-a1fe-3dd0f9914135",
   "metadata": {},
   "source": [
    "## 1.7 EXCHANGING SECRET MESSAGES WITH A PARTNER"
   ]
  },
  {
   "cell_type": "markdown",
   "id": "d81a8389-b81a-4fc0-8cac-3755a52deea9",
   "metadata": {},
   "source": [
    "### Task 1.7.1 Exchanging secret messages"
   ]
  },
  {
   "cell_type": "markdown",
   "id": "39d1fbcb-a6d4-47fc-8b4d-d095a8eb3218",
   "metadata": {},
   "source": [
    "#### TASK"
   ]
  },
  {
   "cell_type": "markdown",
   "id": "78cb7773-97ef-4e64-b2f2-4a5718d2af33",
   "metadata": {},
   "source": [
    "<mark>Choose a partner among your classmates and exchange with him/her secret messages. You’ll need to send the key and other needed parameters along with the ciphertext. The receiver will also need to know the used algorithm, operation mode and key/block size if there are available more than one.</mark>\n",
    "\n",
    "**Notice that in real life keys should NEVER be sent UNPROTECTED.**"
   ]
  },
  {
   "cell_type": "markdown",
   "id": "3ec4fb6b-6d69-4c9a-b47a-0b75268b474f",
   "metadata": {},
   "source": [
    "# 2. Symmetric Stream Ciphers"
   ]
  },
  {
   "cell_type": "markdown",
   "id": "18b1e1e1-88a9-4e8c-b81e-5ef40811ab86",
   "metadata": {},
   "source": [
    "Next, you’ll learn how to encrypt a simple text with symmetric stream ciphers. First, you’ll use the CHACHA20 cipher and then you’ll use the pylfsr library to generate pseudorandom key streams using LFSRs."
   ]
  },
  {
   "cell_type": "markdown",
   "id": "7ed5d84c-fce4-4d7f-96b4-8a8d8d326757",
   "metadata": {},
   "source": [
    "## 2.1 CHACHA20 STREAM CIPHER"
   ]
  },
  {
   "cell_type": "markdown",
   "id": "976d2f70-56d4-4c66-91a6-df663831f56a",
   "metadata": {},
   "source": [
    "### Task 2.1.1 CHACHA20 encryption/decryption functions"
   ]
  },
  {
   "cell_type": "markdown",
   "id": "bce4e8bf-9b43-411d-a454-2e599c47aaa2",
   "metadata": {},
   "source": [
    "#### TASK"
   ]
  },
  {
   "cell_type": "markdown",
   "id": "300a6fce-8d81-46a8-84a5-dac8b77da6df",
   "metadata": {},
   "source": [
    "Now read the information and take the code provided as example in the following web page section: \n",
    "https://cryptography.io/en/latest/hazmat/primitives/symmetric-encryption/#cryptography.hazmat.primitives.ciphers.algorithms.ChaCha20\n",
    "\n",
    "Take the code in the example and use it as base to create the functions whose headers are defined next. Test your functions with the data and results of Code Snippet 29 and Code Snippet 30. "
   ]
  },
  {
   "cell_type": "code",
   "execution_count": 67,
   "id": "0870f01b-4cb4-44cb-851e-1b12f83f3b4a",
   "metadata": {},
   "outputs": [],
   "source": [
    "import struct\n",
    "\n",
    "def chacha20_encrypt(message, key, nonce):\n",
    "    cipher = Cipher(algorithms.ChaCha20(key, nonce), mode=None)\n",
    "\n",
    "    encryptor = cipher.encryptor()\n",
    "    ct = encryptor.update(message) + encryptor.finalize()\n",
    "    \n",
    "    return ct\n",
    "\n",
    "\n",
    "def chacha20_encrypt_rnd(message, key=None, nonce=None):\n",
    "    if key is None:\n",
    "        key = os.urandom(32)    # key must have 256 bits\n",
    "    if nonce is None:\n",
    "       nonce = os.urandom(16)   # nonce must have 128 bits\n",
    "    \n",
    "    cipher = Cipher(algorithms.ChaCha20(key, nonce), mode=None)\n",
    "\n",
    "    encryptor = cipher.encryptor()\n",
    "    ct = encryptor.update(message) + encryptor.finalize()\n",
    "    \n",
    "    return ct, key, nonce\n",
    "    \n",
    "\n",
    "def chacha20_decrypt(ciphertext, key, nonce):\n",
    "    cipher = Cipher(algorithms.ChaCha20(key, nonce), mode=None)\n",
    "    \n",
    "    decryptor = cipher.decryptor()\n",
    "    plaintext = decryptor.update(ciphertext) + decryptor.finalize()\n",
    "    \n",
    "    return plaintext"
   ]
  },
  {
   "cell_type": "markdown",
   "id": "2ac01d73-5ae6-4fcd-8db5-e2dfb1fd3db4",
   "metadata": {},
   "source": [
    "#### CHECK"
   ]
  },
  {
   "cell_type": "code",
   "execution_count": 68,
   "id": "e36d9366-a6e6-4bba-932d-135ce9d8fecb",
   "metadata": {},
   "outputs": [
    {
     "name": "stdout",
     "output_type": "stream",
     "text": [
      "message : b'This is a 48-character long sample message! 1234'\n",
      "other_message : b'This message is important'\n",
      "key = b'MN\\\\\\xde\\xa1\\xf7\\x9c\\xcf\\x10A\\xa8\\x1e\\x00\\x0eeq\\xe86\\x1c\\x12\\x18\\xa6\\x10\\xfb\\xb9^\\n,0\\xa2kj'\n",
      "hex_key = 4d4e5cdea1f79ccf1041a81e000e6571e8361c1218a610fbb95e0a2c30a26b6a\n",
      "nonce = b'\\xf4$\\x89\\xab{\\xa4-`:\\xdeq\\xb5m\\x1b\\xd3\\x98'\n",
      "hex_nonce = f42489ab7ba42d603ade71b56d1bd398\n",
      "ciphertext chacha20 message= b'dJ\\x8c\\x84\\xae\\xda\\x86y\\xd6?\\xfbdp\\xb1o\\xf9\\x02K\\xb4:\\xbb1\\xac:a\\xecD\\xae\\xceHi\\xa0\\xd0\\xc0f\\xd6\\xa2n\\x00X\\x06\\xec<M\\x0b\\xff\\xf0f'\n",
      "hex_ciphertext chacha20 message= 644a8c84aeda8679d63ffb6470b16ff9024bb43abb31ac3a61ec44aece4869a0d0c066d6a26e005806ec3c4d0bfff066\n",
      "plaintext chacha20 message= b'This is a 48-character long sample message! 1234'\n",
      "hex_plaintext chacha20 message= 5468697320697320612034382d636861726163746572206c6f6e672073616d706c65206d657373616765212031323334\n",
      "ciphertext chacha20 other_message= b'dJ\\x8c\\x84\\xae\\xde\\x90*\\xc4~\\xa89}\\xbbt\\xb8\\x19G\\xa7!\\xac7\\xed8z'\n",
      "hex_ciphertext chacha20 other_message= 644a8c84aede902ac47ea8397dbb74b81947a721ac37ed387a\n",
      "plaintext chacha20 other_message= b'This message is important'\n",
      "hex_plaintext chacha20 other_message= 54686973206d65737361676520697320696d706f7274616e74\n"
     ]
    }
   ],
   "source": [
    "# Check your code\n",
    "\n",
    "print(\"message :\", message)\n",
    "print(\"other_message :\", other_message)\n",
    "print(\"key =\", key)\n",
    "print(\"hex_key =\", key.hex())\n",
    "print(\"nonce =\", nonce)\n",
    "print(\"hex_nonce =\", nonce.hex())\n",
    "\n",
    "print(\"ciphertext chacha20 message=\", chacha20_encrypt(message, key, nonce))\n",
    "print(\"hex_ciphertext chacha20 message=\", chacha20_encrypt(message, key, nonce).hex())\n",
    "\n",
    "print(\"plaintext chacha20 message=\", chacha20_decrypt(chacha20_encrypt(message, key, nonce), key, nonce))\n",
    "print(\"hex_plaintext chacha20 message=\", chacha20_decrypt(chacha20_encrypt(message, key, nonce), key, nonce).hex())\n",
    "\n",
    "print(\"ciphertext chacha20 other_message=\", chacha20_encrypt(other_message, key, nonce))\n",
    "print(\"hex_ciphertext chacha20 other_message=\", chacha20_encrypt(other_message, key, nonce).hex())\n",
    "\n",
    "print(\"plaintext chacha20 other_message=\", chacha20_decrypt(chacha20_encrypt(other_message, key, nonce), key, nonce))\n",
    "print(\"hex_plaintext chacha20 other_message=\", chacha20_decrypt(chacha20_encrypt(other_message, key, nonce), key, nonce).hex())\n"
   ]
  },
  {
   "cell_type": "markdown",
   "id": "6e4b1a03-b267-4ddf-b9ef-e6264a6905ea",
   "metadata": {},
   "source": [
    "You should obtain the following result:\n",
    "<code>\n",
    "message : b'a secret message'\n",
    "other_message : b'This message is important'\n",
    "key = b'MN\\\\\\xde\\xa1\\xf7\\x9c\\xcf\\x10A\\xa8\\x1e\\x00\\x0eeq\\xe86\\x1c\\x12\\x18\\xa6\\x10\\xfb\\xb9^\\n,0\\xa2kj'\n",
    "hex_key = 4d4e5cdea1f79ccf1041a81e000e6571e8361c1218a610fbb95e0a2c30a26b6a\n",
    "nonce = b'\\xf4$\\x89\\xab{\\xa4-`:\\xdeq\\xb5m\\x1b\\xd3\\x98'</code>\n",
    "\n",
    "<code>hex_nonce = f42489ab7ba42d603ade71b56d1bd398\n",
    "ciphertext chacha20 message= b'Q\\x02\\x96\\x92\\xed\\xc1\\x90-\\x97r\\xaa/.\\xb3`\\xfd'\n",
    "hex_ciphertext chacha20 message= 51029692edc1902d9772aa2f2eb360fd\n",
    "plaintext chacha20 message= b'a secret message'\n",
    "hex_plaintext chacha20 message= 6120736563726574206d657373616765\n",
    "ciphertext chacha20 other_message= b'dJ\\x8c\\x84\\xae\\xde\\x90*\\xc4~\\xa89}\\xbbt\\xb8\\x19G\\xa7!\\xac7\\xed8z'\n",
    "hex_ciphertext chacha20 other_message= 644a8c84aede902ac47ea8397dbb74b81947a721ac37ed387a\n",
    "plaintext chacha20 other_message= b'This message is important'\n",
    "hex_plaintext chacha20 other_message= 54686973206d65737361676520697320696d706f7274616e74  \n",
    "</code>"
   ]
  }
 ],
 "metadata": {
  "kernelspec": {
   "display_name": "Python 3 (ipykernel)",
   "language": "python",
   "name": "python3"
  },
  "language_info": {
   "codemirror_mode": {
    "name": "ipython",
    "version": 3
   },
   "file_extension": ".py",
   "mimetype": "text/x-python",
   "name": "python",
   "nbconvert_exporter": "python",
   "pygments_lexer": "ipython3",
   "version": "3.10.9"
  },
  "toc-autonumbering": false,
  "toc-showcode": false,
  "toc-showmarkdowntxt": false,
  "toc-showtags": true
 },
 "nbformat": 4,
 "nbformat_minor": 5
}
